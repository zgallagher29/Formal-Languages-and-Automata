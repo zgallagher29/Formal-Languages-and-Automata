{
 "cells": [
  {
   "cell_type": "code",
   "execution_count": 10,
   "metadata": {},
   "outputs": [],
   "source": [
    "import numpy as np\n",
    "\n",
    "productions = 0\n",
    "\n"
   ]
  },
  {
   "cell_type": "code",
   "execution_count": 11,
   "metadata": {},
   "outputs": [],
   "source": [
    "def main():\n",
    "    \n",
    "    start = input(\"What is the Start Variable? \")\n",
    "    productions = int(input(\"What is the number of productions? \"))\n",
    "  \n",
    "    grammar = np.empty([productions, 12], dtype=str)\n",
    "    for i in range(0, productions):\n",
    "        print(\"Enter a production with a space at the end. Example format: S->aSa|bSb|b|a .\")\n",
    "        prod = input()\n",
    "        \n",
    "        grammar[i][0] = prod[:1]  # before the - in '->'\n",
    "        \n",
    "        right = prod[2:] # after the > in '->'\n",
    "        \n",
    "        x = 0\n",
    "        index = 0 \n",
    "        for j in range(0, len(right)):\n",
    "            if right[j] == '|':\n",
    "                grammar[i][index]= right[x:j]\n",
    "                x = j+1\n",
    "                index = index + 1\n",
    "            if right[j]==' ':\n",
    "                break\n",
    "            \n",
    "    \n",
    "    \n",
    "        \n",
    "        \n",
    "        \n",
    "        \n",
    "        "
   ]
  },
  {
   "cell_type": "code",
   "execution_count": null,
   "metadata": {},
   "outputs": [
    {
     "name": "stdout",
     "output_type": "stream",
     "text": [
      "What is the Start Variable? S\n",
      "What is the number of productions? 3\n",
      "Enter a production with a space at the end. Example format: S->aSa|bSb|b|a .\n",
      "S->aSa|bSb|b|a \n",
      "Enter a production with a space at the end. Example format: S->aSa|bSb|b|a .\n"
     ]
    }
   ],
   "source": [
    "main()"
   ]
  },
  {
   "cell_type": "code",
   "execution_count": null,
   "metadata": {
    "collapsed": true
   },
   "outputs": [],
   "source": []
  }
 ],
 "metadata": {
  "kernelspec": {
   "display_name": "Python 3",
   "language": "python",
   "name": "python3"
  },
  "language_info": {
   "codemirror_mode": {
    "name": "ipython",
    "version": 3
   },
   "file_extension": ".py",
   "mimetype": "text/x-python",
   "name": "python",
   "nbconvert_exporter": "python",
   "pygments_lexer": "ipython3",
   "version": "3.6.3"
  }
 },
 "nbformat": 4,
 "nbformat_minor": 2
}
