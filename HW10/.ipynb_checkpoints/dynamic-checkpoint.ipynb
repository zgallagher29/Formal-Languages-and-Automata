{
 "cells": [
  {
   "cell_type": "code",
   "execution_count": 1,
   "metadata": {
    "collapsed": true
   },
   "outputs": [],
   "source": [
    "import numpy as np\n",
    "\n",
    "productions = 0\n",
    "\n"
   ]
  },
  {
   "cell_type": "code",
   "execution_count": 2,
   "metadata": {
    "collapsed": true
   },
   "outputs": [],
   "source": [
    "def main():\n",
    "    \n",
    "    start = input(\"What is the Start Variable? \")\n",
    "    productions = int(input(\"What is the number of productions? \"))\n",
    "  \n",
    "    grammar = np.empty([productions, 12], dtype=str)\n",
    "    for i in range(0, productions):\n",
    "        print(\"Enter a production with a space at the end. Example format: S->aSa|bSb|b|a .\")\n",
    "        prod = input('HEY')\n",
    "        prod = prod + ' '\n",
    "        print(prod)\n",
    "        grammar[i][0] = prod[0]  # before the - in '->'\n",
    "        \n",
    "        right = prod[2:] # after the > in '->'\n",
    "        \n",
    "        x = 0\n",
    "        index = 0 \n",
    "        for j in range(0, len(right)):\n",
    "            if right[j] == '|':\n",
    "                grammar[i][index]= right[x:j]\n",
    "                x = j+1\n",
    "                index = index + 1\n",
    "            if right[j]==' ':\n",
    "                break\n",
    "    print(grammar)\n",
    "    checkString(grammar)\n",
    "    \n",
    "def checkString(grammar):\n",
    "    \n",
    "    word = input('What is the string you would like to check? ')\n",
    "    \n",
    "    matrix = np.empty([len(word),len(word)], dtype = str)\n",
    "\n",
    "    for i in range(0, len(word)):\n",
    "        \n",
    "        leftTerm = \"\"\n",
    "        st=\"\"\n",
    "        st = st+word[i]\n",
    "        for j in range(0, productions):\n",
    "            l = 1 \n",
    "            while grammar[j][l] != \"\":\n",
    "                  \n",
    "                if grammar[j][l] ==st:\n",
    "                    tempLeft = leftTerm\n",
    "                    for n in range (0,len(grammar[j][0])):\n",
    "                        if tempLeft.find(grammar[j][0][n]) > len(tempLeft):\n",
    "                            print(grammar[j][0][n])\n",
    "                            tempLeft = tempLeft + grammar[j][0][n]\n",
    "                    leftTerm = tempLeft\n",
    "                    \n",
    "                l = l+1\n",
    "        for l in range(1,len(word)):\n",
    "            for j in range(l,len(word)):\n",
    "                leftTerm = \"\"\n",
    "                for m in range( j-l, j):\n",
    "                    pr = combine(matrix[j-l][m],matrix[m+1][j])\n",
    "                    for z in range(0,len(pr)):\n",
    "                        if leftTerm.find(pr[z])>leftTerm.length():\n",
    "                            leftTerm = leftTerm + pr[z]\n",
    "                matrix[j-l][j]=leftTerm\n",
    "        print_results(matrix, word)\n",
    "\n",
    "def print_results(matrix, word):\n",
    "    for i in range(0,len(word)):\n",
    "        x = 0\n",
    "        k = len(word) - i -1\n",
    "        for j in range(k,len(word)):\n",
    "            print(matrix[x][j])\n",
    "            x =x+1\n",
    "                            \n",
    "                        \n",
    "def combine(a,b):\n",
    "    pri=a\n",
    "    re=\"\"\n",
    "    for i in range(0,len(a)):\n",
    "        for j in range(0,len(b)):\n",
    "            pri = \"\"\n",
    "            pri = pri+a[i]+b[j]\n",
    "            re = re + find_production(pri)\n",
    "    return re \n",
    "                    \n",
    "def find_production(p):\n",
    "    r =\"\"\n",
    "    for i in range(0,productions):\n",
    "        l = 1 \n",
    "        while grammar[i][l]!=\" \":\n",
    "            if grammar[i][l] == p:\n",
    "                for j in range(0,len(grammar[i][l])):\n",
    "                    if r.find(grammar[i][l][i])>len(r):\n",
    "                        r=r+grammar[i][l][i]\n",
    "        \n",
    "        \n",
    "        \n",
    "                    \n",
    "    \n",
    "        \n",
    "        \n",
    "        \n",
    "        "
   ]
  },
  {
   "cell_type": "code",
   "execution_count": null,
   "metadata": {},
   "outputs": [
    {
     "name": "stdout",
     "output_type": "stream",
     "text": [
      "What is the Start Variable? S\n",
      "What is the number of productions? 4\n",
      "Enter a production with a space at the end. Example format: S->aSa|bSb|b|a .\n",
      "HEYS->AB|BC\n",
      "Enter a production with a space at the end. Example format: S->aSa|bSb|b|a .\n"
     ]
    }
   ],
   "source": [
    "main()\n"
   ]
  },
  {
   "cell_type": "code",
   "execution_count": null,
   "metadata": {
    "collapsed": true
   },
   "outputs": [],
   "source": []
  }
 ],
 "metadata": {
  "kernelspec": {
   "display_name": "Python 3",
   "language": "python",
   "name": "python3"
  },
  "language_info": {
   "codemirror_mode": {
    "name": "ipython",
    "version": 3
   },
   "file_extension": ".py",
   "mimetype": "text/x-python",
   "name": "python",
   "nbconvert_exporter": "python",
   "pygments_lexer": "ipython3",
   "version": "3.6.3"
  }
 },
 "nbformat": 4,
 "nbformat_minor": 2
}
